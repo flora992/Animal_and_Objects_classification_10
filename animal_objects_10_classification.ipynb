{
  "nbformat": 4,
  "nbformat_minor": 0,
  "metadata": {
    "accelerator": "GPU",
    "colab": {
      "name": "animal_objects_10_classification.ipynb",
      "provenance": []
    },
    "kernelspec": {
      "display_name": "Python 3",
      "name": "python3"
    }
  },
  "cells": [
    {
      "cell_type": "code",
      "metadata": {
        "colab": {
          "base_uri": "https://localhost:8080/"
        },
        "id": "wVQVS6PWxAgG",
        "outputId": "66f21a11-7d75-47cc-89bc-cc32fec1883a"
      },
      "source": [
        "!pip install --upgrade --force-reinstall --no-deps kaggle\n",
        "!kaggle --version\n"
      ],
      "execution_count": 8,
      "outputs": [
        {
          "output_type": "stream",
          "text": [
            "Processing /root/.cache/pip/wheels/a1/6a/26/d30b7499ff85a4a4593377a87ecf55f7d08af42f0de9b60303/kaggle-1.5.12-cp37-none-any.whl\n",
            "Installing collected packages: kaggle\n",
            "  Found existing installation: kaggle 1.5.12\n",
            "    Uninstalling kaggle-1.5.12:\n",
            "      Successfully uninstalled kaggle-1.5.12\n",
            "Successfully installed kaggle-1.5.12\n",
            "Traceback (most recent call last):\n",
            "  File \"/usr/local/bin/kaggle\", line 5, in <module>\n",
            "    from kaggle.cli import main\n",
            "  File \"/usr/local/lib/python3.7/dist-packages/kaggle/__init__.py\", line 23, in <module>\n",
            "    api.authenticate()\n",
            "  File \"/usr/local/lib/python3.7/dist-packages/kaggle/api/kaggle_api_extended.py\", line 166, in authenticate\n",
            "    self.config_file, self.config_dir))\n",
            "OSError: Could not find kaggle.json. Make sure it's located in /root/.kaggle. Or use the environment method.\n"
          ],
          "name": "stdout"
        }
      ]
    },
    {
      "cell_type": "code",
      "metadata": {
        "colab": {
          "resources": {
            "http://localhost:8080/nbextensions/google.colab/files.js": {
              "data": "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",
              "ok": true,
              "headers": [
                [
                  "content-type",
                  "application/javascript"
                ]
              ],
              "status": 200,
              "status_text": ""
            }
          },
          "base_uri": "https://localhost:8080/",
          "height": 93
        },
        "id": "o-qT4KFLxbLB",
        "outputId": "0d895782-1e82-4f6f-c44c-f7f2472d2b84"
      },
      "source": [
        "from google.colab import files\n",
        "files.upload()"
      ],
      "execution_count": 9,
      "outputs": [
        {
          "output_type": "display_data",
          "data": {
            "text/html": [
              "\n",
              "     <input type=\"file\" id=\"files-2fd6cd0b-caf6-470c-a015-1df8826a6b36\" name=\"files[]\" multiple disabled\n",
              "        style=\"border:none\" />\n",
              "     <output id=\"result-2fd6cd0b-caf6-470c-a015-1df8826a6b36\">\n",
              "      Upload widget is only available when the cell has been executed in the\n",
              "      current browser session. Please rerun this cell to enable.\n",
              "      </output>\n",
              "      <script src=\"/nbextensions/google.colab/files.js\"></script> "
            ],
            "text/plain": [
              "<IPython.core.display.HTML object>"
            ]
          },
          "metadata": {
            "tags": []
          }
        },
        {
          "output_type": "stream",
          "text": [
            "Saving kaggle.json to kaggle.json\n"
          ],
          "name": "stdout"
        },
        {
          "output_type": "execute_result",
          "data": {
            "text/plain": [
              "{'kaggle.json': b'{\"username\":\"florahuo\",\"key\":\"bed7bdc914d14364a695127d4d320240\"}'}"
            ]
          },
          "metadata": {
            "tags": []
          },
          "execution_count": 9
        }
      ]
    },
    {
      "cell_type": "code",
      "metadata": {
        "colab": {
          "base_uri": "https://localhost:8080/"
        },
        "id": "j0Lu_tVvyqD3",
        "outputId": "9e2cf493-5f85-4497-9fcf-d731277d4d3e"
      },
      "source": [
        "!ls -lha kaggle.json"
      ],
      "execution_count": 10,
      "outputs": [
        {
          "output_type": "stream",
          "text": [
            "-rw-r--r-- 1 root root 64 May 12 21:05 kaggle.json\n"
          ],
          "name": "stdout"
        }
      ]
    },
    {
      "cell_type": "code",
      "metadata": {
        "id": "KyFqV0ndyr-0"
      },
      "source": [
        "!mkdir -p ~/.kaggle\n",
        "!cp kaggle.json ~/.kaggle/"
      ],
      "execution_count": 11,
      "outputs": []
    },
    {
      "cell_type": "code",
      "metadata": {
        "id": "vg14sTfdytV3"
      },
      "source": [
        "!chmod 600 ~/.kaggle/kaggle.json"
      ],
      "execution_count": 12,
      "outputs": []
    },
    {
      "cell_type": "code",
      "metadata": {
        "colab": {
          "base_uri": "https://localhost:8080/"
        },
        "id": "UH1b-v-vyxbE",
        "outputId": "f86132c4-6ac6-4335-e9c8-aa63d3d119bd"
      },
      "source": [
        "!kaggle competitions download -c codeml-challenge5 --force"
      ],
      "execution_count": 13,
      "outputs": [
        {
          "output_type": "stream",
          "text": [
            "Downloading codeml-challenge5.zip to /content\n",
            " 92% 130M/141M [00:02<00:00, 49.0MB/s]\n",
            "100% 141M/141M [00:02<00:00, 50.3MB/s]\n"
          ],
          "name": "stdout"
        }
      ]
    },
    {
      "cell_type": "code",
      "metadata": {
        "colab": {
          "base_uri": "https://localhost:8080/"
        },
        "id": "htVuunWHyzao",
        "outputId": "a7cef23e-3310-44f6-8869-ddb021abcb24"
      },
      "source": [
        "from zipfile import ZipFile\n",
        "file_name = 'codeml-challenge5.zip'\n",
        "\n",
        "with ZipFile(file_name, 'r') as zip:\n",
        "  zip.extractall()\n",
        "  print('Done')"
      ],
      "execution_count": 14,
      "outputs": [
        {
          "output_type": "stream",
          "text": [
            "Done\n"
          ],
          "name": "stdout"
        }
      ]
    },
    {
      "cell_type": "code",
      "metadata": {
        "id": "UVzuOvNy1GAi"
      },
      "source": [
        "import numpy as np\n",
        "import os\n",
        "import matplotlib.pyplot as plt\n",
        "import matplotlib.image as mpimg\n",
        "import tensorflow as tf"
      ],
      "execution_count": 15,
      "outputs": []
    },
    {
      "cell_type": "code",
      "metadata": {
        "id": "zNRR1lf-Bujx"
      },
      "source": [
        "# set your own dir for trainset and testset\n",
        "train_dir = './train_images/train_images/' \n",
        "test_dir = './test_images/content/data/test_imagess/'"
      ],
      "execution_count": 16,
      "outputs": []
    },
    {
      "cell_type": "code",
      "metadata": {
        "id": "jxhLT_5aCPMv"
      },
      "source": [
        "# One Hot Encode training data labels\n",
        "train_labels = np.genfromtxt(\"./train_label.txt\",delimiter='\\n',dtype=None,encoding=None)\n",
        "\n",
        "from keras.utils import to_categorical \n",
        "from sklearn.preprocessing import LabelEncoder\n",
        "\n",
        "# Encode target labels with beluw between 0 and n_classes-1. \n",
        "\n",
        "label_encoder = LabelEncoder() # Create an instance\n",
        "\n",
        "# Fit label encoder (One-Hot Encode) the labels as a vector\n",
        "vector = label_encoder.fit_transform(train_labels)\n",
        "\n",
        "#Convert to categorical\n",
        "y_train = to_categorical(vector) #Shape: (49999, 10) "
      ],
      "execution_count": 17,
      "outputs": []
    },
    {
      "cell_type": "code",
      "metadata": {
        "colab": {
          "base_uri": "https://localhost:8080/"
        },
        "id": "B3zQ9x9fC78B",
        "outputId": "391f39cb-61bc-448a-bde6-0bce67c3bfb7"
      },
      "source": [
        "print(y_train.shape)\n",
        "print(y_train[0])\n",
        "train_labels[:10] #same as the original txt file"
      ],
      "execution_count": 18,
      "outputs": [
        {
          "output_type": "stream",
          "text": [
            "(49999, 10)\n",
            "[0. 0. 0. 0. 0. 0. 0. 0. 0. 1.]\n"
          ],
          "name": "stdout"
        },
        {
          "output_type": "execute_result",
          "data": {
            "text/plain": [
              "array(['truck', 'airplane', 'frog', 'deer', 'truck', 'ship', 'frog',\n",
              "       'cat', 'bird', 'airplane'], dtype='<U10')"
            ]
          },
          "metadata": {
            "tags": []
          },
          "execution_count": 18
        }
      ]
    },
    {
      "cell_type": "code",
      "metadata": {
        "colab": {
          "base_uri": "https://localhost:8080/"
        },
        "id": "s_ChWIvBDOtA",
        "outputId": "ff9ace45-9684-4076-c82f-061bfc56be33"
      },
      "source": [
        "import cv2\n",
        "from PIL import Image\n",
        "import keras\n",
        "from natsort import natsorted, ns\n",
        "SIZE = 32\n",
        "x_train = []\n",
        "x_test = []\n",
        "\n",
        "# Output should be two lists of 50000 32x32 images with each pixel being an RGB value. \n",
        "\n",
        "for image_name in natsorted(os.listdir(train_dir)):\n",
        "  if (len(image_name) > 3):\n",
        "    if (image_name.split('.')[1] == 'png'):\n",
        "      image = cv2.imread(train_dir + image_name)\n",
        "      image = Image.fromarray(image, 'RGB')\n",
        "      image = image.resize((SIZE, SIZE))\n",
        "      x_train.append(np.array(image))\n",
        "\n",
        "print('Loaded train set')\n",
        "\n",
        "for image_name in natsorted(os.listdir(test_dir)):\n",
        "  if (len(image_name) > 3):\n",
        "    if (image_name.split('.')[1] == 'png'):\n",
        "      image = cv2.imread(test_dir + image_name)\n",
        "      image = Image.fromarray(image, 'RGB')\n",
        "      image = image.resize((SIZE, SIZE))\n",
        "      x_test.append(np.array(image))\n",
        "\n",
        "print('Loaded test set')"
      ],
      "execution_count": 19,
      "outputs": [
        {
          "output_type": "stream",
          "text": [
            "Loaded train set\n",
            "Loaded test set\n"
          ],
          "name": "stdout"
        }
      ]
    },
    {
      "cell_type": "code",
      "metadata": {
        "id": "KcuMODiXDSsD"
      },
      "source": [
        "from keras.utils import normalize\n",
        "\n",
        "X_train = normalize(x_train, axis = 1)\n",
        "X_test = normalize(x_test, axis = 1)\n"
      ],
      "execution_count": 20,
      "outputs": []
    },
    {
      "cell_type": "code",
      "metadata": {
        "colab": {
          "base_uri": "https://localhost:8080/"
        },
        "id": "D-ZIE6OyHDQs",
        "outputId": "d10c0c2a-87d7-4e8f-bbf3-f70a46a1bf65"
      },
      "source": [
        "print(X_train.shape)\n",
        "print(X_test.shape)\n",
        "print(y_train[0].shape)"
      ],
      "execution_count": 21,
      "outputs": [
        {
          "output_type": "stream",
          "text": [
            "(49999, 32, 32, 3)\n",
            "(10000, 32, 32, 3)\n",
            "(10,)\n"
          ],
          "name": "stdout"
        }
      ]
    },
    {
      "cell_type": "code",
      "metadata": {
        "id": "xjTRcGAF_Ish"
      },
      "source": [
        "from sklearn.model_selection import train_test_split\n",
        "\n",
        "Xtrain, Xvalidation, Ytrain, Yvalidation = train_test_split(X_train, y_train, test_size=9999, random_state = 0)"
      ],
      "execution_count": 22,
      "outputs": []
    },
    {
      "cell_type": "code",
      "metadata": {
        "colab": {
          "base_uri": "https://localhost:8080/"
        },
        "id": "9heMJfUdAafn",
        "outputId": "e2b9a4c8-5502-4076-d718-02ea494ea273"
      },
      "source": [
        "print(Xtrain.shape)\n",
        "print(Ytrain.shape)\n",
        "print(Xvalidation.shape)\n",
        "print(Yvalidation.shape)"
      ],
      "execution_count": 23,
      "outputs": [
        {
          "output_type": "stream",
          "text": [
            "(40000, 32, 32, 3)\n",
            "(40000, 10)\n",
            "(9999, 32, 32, 3)\n",
            "(9999, 10)\n"
          ],
          "name": "stdout"
        }
      ]
    },
    {
      "cell_type": "code",
      "metadata": {
        "colab": {
          "base_uri": "https://localhost:8080/",
          "height": 284
        },
        "id": "yGFZVeg3brLM",
        "outputId": "9627b502-4301-4653-d325-dab5f5298b86"
      },
      "source": [
        "plt.imshow(Xvalidation[199])\n",
        "print(Yvalidation[199])"
      ],
      "execution_count": 24,
      "outputs": [
        {
          "output_type": "stream",
          "text": [
            "[0. 0. 0. 0. 0. 0. 0. 1. 0. 0.]\n"
          ],
          "name": "stdout"
        },
        {
          "output_type": "display_data",
          "data": {
            "image/png": "[encoded data removed]",
            "text/plain": [
              "<Figure size 432x288 with 1 Axes>"
            ]
          },
          "metadata": {
            "tags": [],
            "needs_background": "light"
          }
        }
      ]
    },
    {
      "cell_type": "code",
      "metadata": {
        "id": "l-9fHZShLjKF"
      },
      "source": [
        "from tensorflow.keras.models import Sequential\n",
        "\n",
        "model = keras.models.Sequential()\n",
        "model.add(keras.layers.Conv2D(128, (3,3), padding='same', activation='relu',input_shape=(32,32,3)))\n",
        "model.add(keras.layers.Conv2D(128, (3,3), activation='relu'))\n",
        "model.add(keras.layers.MaxPooling2D(2,2))\n",
        "model.add(keras.layers.Dropout(0.6))\n",
        "\n",
        "model.add(keras.layers.Conv2D(64, (3,3), padding='same', activation='relu'))\n",
        "model.add(keras.layers.Conv2D(64, (3,3), activation='relu'))\n",
        "model.add(keras.layers.MaxPooling2D(2,2))\n",
        "model.add(keras.layers.Dropout(0.6))\n",
        "\n",
        "#model.add(keras.layers.Conv2D(64, (3,3), padding='same', activation='relu'))\n",
        "#model.add(keras.layers.Conv2D(64, (3,3), activation='relu'))\n",
        "#model.add(keras.layers.MaxPooling2D(2,2))\n",
        "#model.add(keras.layers.Dropout(0.6))\n",
        "\n",
        "model.add(keras.layers.Flatten())\n",
        "model.add(keras.layers.Dense(128, activation='relu'))\n",
        "model.add(keras.layers.Dropout(0.4))\n",
        "model.add(keras.layers.Dense(64, activation='relu'))\n",
        "#model.add(keras.layers.Dense(32, activation='relu'))\n",
        "model.add(keras.layers.Dense(10, activation='softmax'))"
      ],
      "execution_count": 25,
      "outputs": []
    },
    {
      "cell_type": "code",
      "metadata": {
        "colab": {
          "base_uri": "https://localhost:8080/"
        },
        "id": "6TbHTluaMC7O",
        "outputId": "246ebf06-73b5-4cb3-eb52-f4e533d50fa7"
      },
      "source": [
        "from tensorflow.keras import optimizers\n",
        "\n",
        "model.compile(optimizer=optimizers.Adam(), loss='categorical_crossentropy', metrics=['accuracy'])\n",
        "model.summary()"
      ],
      "execution_count": 26,
      "outputs": [
        {
          "output_type": "stream",
          "text": [
            "Model: \"sequential\"\n",
            "_________________________________________________________________\n",
            "Layer (type)                 Output Shape              Param #   \n",
            "=================================================================\n",
            "conv2d (Conv2D)              (None, 32, 32, 128)       3584      \n",
            "_________________________________________________________________\n",
            "conv2d_1 (Conv2D)            (None, 30, 30, 128)       147584    \n",
            "_________________________________________________________________\n",
            "max_pooling2d (MaxPooling2D) (None, 15, 15, 128)       0         \n",
            "_________________________________________________________________\n",
            "dropout (Dropout)            (None, 15, 15, 128)       0         \n",
            "_________________________________________________________________\n",
            "conv2d_2 (Conv2D)            (None, 15, 15, 64)        73792     \n",
            "_________________________________________________________________\n",
            "conv2d_3 (Conv2D)            (None, 13, 13, 64)        36928     \n",
            "_________________________________________________________________\n",
            "max_pooling2d_1 (MaxPooling2 (None, 6, 6, 64)          0         \n",
            "_________________________________________________________________\n",
            "dropout_1 (Dropout)          (None, 6, 6, 64)          0         \n",
            "_________________________________________________________________\n",
            "flatten (Flatten)            (None, 2304)              0         \n",
            "_________________________________________________________________\n",
            "dense (Dense)                (None, 128)               295040    \n",
            "_________________________________________________________________\n",
            "dropout_2 (Dropout)          (None, 128)               0         \n",
            "_________________________________________________________________\n",
            "dense_1 (Dense)              (None, 64)                8256      \n",
            "_________________________________________________________________\n",
            "dense_2 (Dense)              (None, 10)                650       \n",
            "=================================================================\n",
            "Total params: 565,834\n",
            "Trainable params: 565,834\n",
            "Non-trainable params: 0\n",
            "_________________________________________________________________\n"
          ],
          "name": "stdout"
        }
      ]
    },
    {
      "cell_type": "code",
      "metadata": {
        "colab": {
          "base_uri": "https://localhost:8080/"
        },
        "id": "LIa0IwPd0R57",
        "outputId": "538c8988-652d-4368-bf06-fd895df9fdb9"
      },
      "source": [
        "history = model.fit(Xtrain, Ytrain, batch_size = 2048, epochs=100, verbose=1, validation_data=(Xvalidation, Yvalidation))"
      ],
      "execution_count": 35,
      "outputs": [
        {
          "output_type": "stream",
          "text": [
            "Epoch 1/100\n",
            "20/20 [==============================] - 11s 544ms/step - loss: 0.5922 - accuracy: 0.7895 - val_loss: 0.5702 - val_accuracy: 0.7977\n",
            "Epoch 2/100\n",
            "20/20 [==============================] - 11s 552ms/step - loss: 0.5649 - accuracy: 0.7978 - val_loss: 0.5605 - val_accuracy: 0.8054\n",
            "Epoch 3/100\n",
            "20/20 [==============================] - 11s 561ms/step - loss: 0.5651 - accuracy: 0.7992 - val_loss: 0.5576 - val_accuracy: 0.8055\n",
            "Epoch 4/100\n",
            "20/20 [==============================] - 11s 575ms/step - loss: 0.5664 - accuracy: 0.7987 - val_loss: 0.5579 - val_accuracy: 0.8046\n",
            "Epoch 5/100\n",
            "20/20 [==============================] - 12s 583ms/step - loss: 0.5590 - accuracy: 0.8018 - val_loss: 0.5597 - val_accuracy: 0.8048\n",
            "Epoch 6/100\n",
            "20/20 [==============================] - 11s 569ms/step - loss: 0.5593 - accuracy: 0.8003 - val_loss: 0.5583 - val_accuracy: 0.8078\n",
            "Epoch 7/100\n",
            "20/20 [==============================] - 11s 566ms/step - loss: 0.5562 - accuracy: 0.8011 - val_loss: 0.5620 - val_accuracy: 0.8008\n",
            "Epoch 8/100\n",
            "20/20 [==============================] - 11s 555ms/step - loss: 0.5496 - accuracy: 0.8068 - val_loss: 0.5569 - val_accuracy: 0.8071\n",
            "Epoch 9/100\n",
            "20/20 [==============================] - 11s 555ms/step - loss: 0.5546 - accuracy: 0.8026 - val_loss: 0.5554 - val_accuracy: 0.8071\n",
            "Epoch 10/100\n",
            "20/20 [==============================] - 11s 561ms/step - loss: 0.5514 - accuracy: 0.8030 - val_loss: 0.5572 - val_accuracy: 0.8069\n",
            "Epoch 11/100\n",
            "20/20 [==============================] - 11s 562ms/step - loss: 0.5492 - accuracy: 0.8041 - val_loss: 0.5517 - val_accuracy: 0.8096\n",
            "Epoch 12/100\n",
            "20/20 [==============================] - 11s 562ms/step - loss: 0.5481 - accuracy: 0.8044 - val_loss: 0.5471 - val_accuracy: 0.8120\n",
            "Epoch 13/100\n",
            "20/20 [==============================] - 11s 564ms/step - loss: 0.5470 - accuracy: 0.8045 - val_loss: 0.5611 - val_accuracy: 0.8065\n",
            "Epoch 14/100\n",
            "20/20 [==============================] - 11s 566ms/step - loss: 0.5537 - accuracy: 0.8030 - val_loss: 0.5567 - val_accuracy: 0.8051\n",
            "Epoch 15/100\n",
            "20/20 [==============================] - 11s 564ms/step - loss: 0.5453 - accuracy: 0.8071 - val_loss: 0.5484 - val_accuracy: 0.8090\n",
            "Epoch 16/100\n",
            "20/20 [==============================] - 11s 559ms/step - loss: 0.5427 - accuracy: 0.8055 - val_loss: 0.5501 - val_accuracy: 0.8112\n",
            "Epoch 17/100\n",
            "20/20 [==============================] - 11s 561ms/step - loss: 0.5455 - accuracy: 0.8054 - val_loss: 0.5548 - val_accuracy: 0.8078\n",
            "Epoch 18/100\n",
            "20/20 [==============================] - 11s 560ms/step - loss: 0.5450 - accuracy: 0.8034 - val_loss: 0.5418 - val_accuracy: 0.8132\n",
            "Epoch 19/100\n",
            "20/20 [==============================] - 11s 562ms/step - loss: 0.5383 - accuracy: 0.8087 - val_loss: 0.5435 - val_accuracy: 0.8127\n",
            "Epoch 20/100\n",
            "20/20 [==============================] - 11s 561ms/step - loss: 0.5396 - accuracy: 0.8063 - val_loss: 0.5517 - val_accuracy: 0.8095\n",
            "Epoch 21/100\n",
            "20/20 [==============================] - 11s 562ms/step - loss: 0.5339 - accuracy: 0.8084 - val_loss: 0.5485 - val_accuracy: 0.8093\n",
            "Epoch 22/100\n",
            "20/20 [==============================] - 11s 565ms/step - loss: 0.5450 - accuracy: 0.8051 - val_loss: 0.5534 - val_accuracy: 0.8078\n",
            "Epoch 23/100\n",
            "20/20 [==============================] - 11s 564ms/step - loss: 0.5447 - accuracy: 0.8072 - val_loss: 0.5426 - val_accuracy: 0.8119\n",
            "Epoch 24/100\n",
            "20/20 [==============================] - 11s 568ms/step - loss: 0.5405 - accuracy: 0.8046 - val_loss: 0.5681 - val_accuracy: 0.8019\n",
            "Epoch 25/100\n",
            "20/20 [==============================] - 11s 561ms/step - loss: 0.5334 - accuracy: 0.8081 - val_loss: 0.5460 - val_accuracy: 0.8105\n",
            "Epoch 26/100\n",
            "20/20 [==============================] - 11s 561ms/step - loss: 0.5334 - accuracy: 0.8095 - val_loss: 0.5468 - val_accuracy: 0.8091\n",
            "Epoch 27/100\n",
            "20/20 [==============================] - 11s 561ms/step - loss: 0.5380 - accuracy: 0.8084 - val_loss: 0.5441 - val_accuracy: 0.8115\n",
            "Epoch 28/100\n",
            "20/20 [==============================] - 11s 562ms/step - loss: 0.5340 - accuracy: 0.8099 - val_loss: 0.5457 - val_accuracy: 0.8123\n",
            "Epoch 29/100\n",
            "20/20 [==============================] - 11s 561ms/step - loss: 0.5347 - accuracy: 0.8099 - val_loss: 0.5469 - val_accuracy: 0.8122\n",
            "Epoch 30/100\n",
            "20/20 [==============================] - 11s 561ms/step - loss: 0.5376 - accuracy: 0.8083 - val_loss: 0.5473 - val_accuracy: 0.8117\n",
            "Epoch 31/100\n",
            "20/20 [==============================] - 11s 561ms/step - loss: 0.5373 - accuracy: 0.8097 - val_loss: 0.5468 - val_accuracy: 0.8105\n",
            "Epoch 32/100\n",
            "20/20 [==============================] - 11s 562ms/step - loss: 0.5259 - accuracy: 0.8121 - val_loss: 0.5443 - val_accuracy: 0.8125\n",
            "Epoch 33/100\n",
            "20/20 [==============================] - 11s 561ms/step - loss: 0.5313 - accuracy: 0.8131 - val_loss: 0.5494 - val_accuracy: 0.8092\n",
            "Epoch 34/100\n",
            "20/20 [==============================] - 11s 561ms/step - loss: 0.5318 - accuracy: 0.8120 - val_loss: 0.5573 - val_accuracy: 0.8072\n",
            "Epoch 35/100\n",
            "20/20 [==============================] - 11s 562ms/step - loss: 0.5263 - accuracy: 0.8113 - val_loss: 0.5331 - val_accuracy: 0.8142\n",
            "Epoch 36/100\n",
            "20/20 [==============================] - 11s 562ms/step - loss: 0.5307 - accuracy: 0.8110 - val_loss: 0.5495 - val_accuracy: 0.8094\n",
            "Epoch 37/100\n",
            "20/20 [==============================] - 11s 561ms/step - loss: 0.5289 - accuracy: 0.8142 - val_loss: 0.5525 - val_accuracy: 0.8085\n",
            "Epoch 38/100\n",
            "20/20 [==============================] - 11s 562ms/step - loss: 0.5316 - accuracy: 0.8080 - val_loss: 0.5449 - val_accuracy: 0.8119\n",
            "Epoch 39/100\n",
            "20/20 [==============================] - 11s 566ms/step - loss: 0.5311 - accuracy: 0.8114 - val_loss: 0.5507 - val_accuracy: 0.8084\n",
            "Epoch 40/100\n",
            "20/20 [==============================] - 11s 567ms/step - loss: 0.5303 - accuracy: 0.8102 - val_loss: 0.5487 - val_accuracy: 0.8115\n",
            "Epoch 41/100\n",
            "20/20 [==============================] - 11s 561ms/step - loss: 0.5195 - accuracy: 0.8145 - val_loss: 0.5440 - val_accuracy: 0.8135\n",
            "Epoch 42/100\n",
            "20/20 [==============================] - 11s 561ms/step - loss: 0.5291 - accuracy: 0.8098 - val_loss: 0.5399 - val_accuracy: 0.8151\n",
            "Epoch 43/100\n",
            "20/20 [==============================] - 11s 562ms/step - loss: 0.5231 - accuracy: 0.8124 - val_loss: 0.5438 - val_accuracy: 0.8122\n",
            "Epoch 44/100\n",
            "20/20 [==============================] - 11s 561ms/step - loss: 0.5189 - accuracy: 0.8127 - val_loss: 0.5398 - val_accuracy: 0.8133\n",
            "Epoch 45/100\n",
            "20/20 [==============================] - 11s 562ms/step - loss: 0.5200 - accuracy: 0.8141 - val_loss: 0.5393 - val_accuracy: 0.8140\n",
            "Epoch 46/100\n",
            "20/20 [==============================] - 11s 561ms/step - loss: 0.5223 - accuracy: 0.8138 - val_loss: 0.5413 - val_accuracy: 0.8130\n",
            "Epoch 47/100\n",
            "20/20 [==============================] - 11s 561ms/step - loss: 0.5189 - accuracy: 0.8122 - val_loss: 0.5495 - val_accuracy: 0.8113\n",
            "Epoch 48/100\n",
            "20/20 [==============================] - 11s 564ms/step - loss: 0.5209 - accuracy: 0.8131 - val_loss: 0.5440 - val_accuracy: 0.8115\n",
            "Epoch 49/100\n",
            "20/20 [==============================] - 11s 567ms/step - loss: 0.5192 - accuracy: 0.8121 - val_loss: 0.5437 - val_accuracy: 0.8143\n",
            "Epoch 50/100\n",
            "20/20 [==============================] - 11s 562ms/step - loss: 0.5225 - accuracy: 0.8134 - val_loss: 0.5546 - val_accuracy: 0.8087\n",
            "Epoch 51/100\n",
            "20/20 [==============================] - 11s 560ms/step - loss: 0.5187 - accuracy: 0.8156 - val_loss: 0.5397 - val_accuracy: 0.8147\n",
            "Epoch 52/100\n",
            "20/20 [==============================] - 11s 562ms/step - loss: 0.5293 - accuracy: 0.8121 - val_loss: 0.5335 - val_accuracy: 0.8154\n",
            "Epoch 53/100\n",
            "20/20 [==============================] - 11s 561ms/step - loss: 0.5218 - accuracy: 0.8147 - val_loss: 0.5422 - val_accuracy: 0.8132\n",
            "Epoch 54/100\n",
            "20/20 [==============================] - 11s 562ms/step - loss: 0.5150 - accuracy: 0.8141 - val_loss: 0.5467 - val_accuracy: 0.8124\n",
            "Epoch 55/100\n",
            "20/20 [==============================] - 11s 562ms/step - loss: 0.5221 - accuracy: 0.8108 - val_loss: 0.5519 - val_accuracy: 0.8101\n",
            "Epoch 56/100\n",
            "20/20 [==============================] - 11s 559ms/step - loss: 0.5228 - accuracy: 0.8138 - val_loss: 0.5475 - val_accuracy: 0.8121\n",
            "Epoch 57/100\n",
            "20/20 [==============================] - 11s 568ms/step - loss: 0.5202 - accuracy: 0.8158 - val_loss: 0.5407 - val_accuracy: 0.8143\n",
            "Epoch 58/100\n",
            "20/20 [==============================] - 11s 561ms/step - loss: 0.5136 - accuracy: 0.8163 - val_loss: 0.5479 - val_accuracy: 0.8115\n",
            "Epoch 59/100\n",
            "20/20 [==============================] - 11s 561ms/step - loss: 0.5077 - accuracy: 0.8205 - val_loss: 0.5444 - val_accuracy: 0.8118\n",
            "Epoch 60/100\n",
            "20/20 [==============================] - 11s 561ms/step - loss: 0.5136 - accuracy: 0.8170 - val_loss: 0.5423 - val_accuracy: 0.8133\n",
            "Epoch 61/100\n",
            "20/20 [==============================] - 11s 562ms/step - loss: 0.5137 - accuracy: 0.8157 - val_loss: 0.5432 - val_accuracy: 0.8118\n",
            "Epoch 62/100\n",
            "20/20 [==============================] - 11s 561ms/step - loss: 0.5097 - accuracy: 0.8184 - val_loss: 0.5437 - val_accuracy: 0.8114\n",
            "Epoch 63/100\n",
            "20/20 [==============================] - 11s 561ms/step - loss: 0.5102 - accuracy: 0.8171 - val_loss: 0.5468 - val_accuracy: 0.8114\n",
            "Epoch 64/100\n",
            "20/20 [==============================] - 11s 562ms/step - loss: 0.5169 - accuracy: 0.8172 - val_loss: 0.5264 - val_accuracy: 0.8195\n",
            "Epoch 65/100\n",
            "20/20 [==============================] - 11s 567ms/step - loss: 0.5074 - accuracy: 0.8188 - val_loss: 0.5361 - val_accuracy: 0.8143\n",
            "Epoch 66/100\n",
            "20/20 [==============================] - 11s 561ms/step - loss: 0.5057 - accuracy: 0.8208 - val_loss: 0.5333 - val_accuracy: 0.8182\n",
            "Epoch 67/100\n",
            "20/20 [==============================] - 11s 561ms/step - loss: 0.5069 - accuracy: 0.8196 - val_loss: 0.5392 - val_accuracy: 0.8156\n",
            "Epoch 68/100\n",
            "20/20 [==============================] - 11s 562ms/step - loss: 0.5133 - accuracy: 0.8170 - val_loss: 0.5353 - val_accuracy: 0.8147\n",
            "Epoch 69/100\n",
            "20/20 [==============================] - 11s 561ms/step - loss: 0.5118 - accuracy: 0.8171 - val_loss: 0.5385 - val_accuracy: 0.8171\n",
            "Epoch 70/100\n",
            "20/20 [==============================] - 11s 561ms/step - loss: 0.5041 - accuracy: 0.8195 - val_loss: 0.5496 - val_accuracy: 0.8110\n",
            "Epoch 71/100\n",
            "20/20 [==============================] - 11s 561ms/step - loss: 0.5071 - accuracy: 0.8210 - val_loss: 0.5478 - val_accuracy: 0.8119\n",
            "Epoch 72/100\n",
            "20/20 [==============================] - 11s 562ms/step - loss: 0.5069 - accuracy: 0.8199 - val_loss: 0.5265 - val_accuracy: 0.8152\n",
            "Epoch 73/100\n",
            "20/20 [==============================] - 11s 567ms/step - loss: 0.5017 - accuracy: 0.8198 - val_loss: 0.5264 - val_accuracy: 0.8195\n",
            "Epoch 74/100\n",
            "20/20 [==============================] - 11s 560ms/step - loss: 0.5035 - accuracy: 0.8202 - val_loss: 0.5462 - val_accuracy: 0.8098\n",
            "Epoch 75/100\n",
            "20/20 [==============================] - 11s 561ms/step - loss: 0.5064 - accuracy: 0.8205 - val_loss: 0.5289 - val_accuracy: 0.8218\n",
            "Epoch 76/100\n",
            "20/20 [==============================] - 11s 563ms/step - loss: 0.5050 - accuracy: 0.8198 - val_loss: 0.5399 - val_accuracy: 0.8139\n",
            "Epoch 77/100\n",
            "20/20 [==============================] - 11s 561ms/step - loss: 0.4993 - accuracy: 0.8211 - val_loss: 0.5305 - val_accuracy: 0.8184\n",
            "Epoch 78/100\n",
            "20/20 [==============================] - 11s 562ms/step - loss: 0.4991 - accuracy: 0.8227 - val_loss: 0.5356 - val_accuracy: 0.8155\n",
            "Epoch 79/100\n",
            "20/20 [==============================] - 11s 560ms/step - loss: 0.4973 - accuracy: 0.8234 - val_loss: 0.5147 - val_accuracy: 0.8207\n",
            "Epoch 80/100\n",
            "20/20 [==============================] - 11s 564ms/step - loss: 0.4955 - accuracy: 0.8240 - val_loss: 0.5301 - val_accuracy: 0.8182\n",
            "Epoch 81/100\n",
            "20/20 [==============================] - 11s 565ms/step - loss: 0.4991 - accuracy: 0.8228 - val_loss: 0.5324 - val_accuracy: 0.8143\n",
            "Epoch 82/100\n",
            "20/20 [==============================] - 11s 567ms/step - loss: 0.4951 - accuracy: 0.8230 - val_loss: 0.5294 - val_accuracy: 0.8168\n",
            "Epoch 83/100\n",
            "20/20 [==============================] - 11s 562ms/step - loss: 0.4952 - accuracy: 0.8248 - val_loss: 0.5243 - val_accuracy: 0.8193\n",
            "Epoch 84/100\n",
            "20/20 [==============================] - 11s 562ms/step - loss: 0.4942 - accuracy: 0.8220 - val_loss: 0.5322 - val_accuracy: 0.8155\n",
            "Epoch 85/100\n",
            "20/20 [==============================] - 11s 562ms/step - loss: 0.4970 - accuracy: 0.8222 - val_loss: 0.5268 - val_accuracy: 0.8222\n",
            "Epoch 86/100\n",
            "20/20 [==============================] - 11s 563ms/step - loss: 0.5058 - accuracy: 0.8199 - val_loss: 0.5305 - val_accuracy: 0.8149\n",
            "Epoch 87/100\n",
            "20/20 [==============================] - 11s 560ms/step - loss: 0.4926 - accuracy: 0.8237 - val_loss: 0.5358 - val_accuracy: 0.8150\n",
            "Epoch 88/100\n",
            "20/20 [==============================] - 11s 562ms/step - loss: 0.4941 - accuracy: 0.8233 - val_loss: 0.5322 - val_accuracy: 0.8164\n",
            "Epoch 89/100\n",
            "20/20 [==============================] - 11s 561ms/step - loss: 0.4975 - accuracy: 0.8217 - val_loss: 0.5274 - val_accuracy: 0.8175\n",
            "Epoch 90/100\n",
            "20/20 [==============================] - 11s 561ms/step - loss: 0.4897 - accuracy: 0.8252 - val_loss: 0.5281 - val_accuracy: 0.8181\n",
            "Epoch 91/100\n",
            "20/20 [==============================] - 11s 572ms/step - loss: 0.4945 - accuracy: 0.8237 - val_loss: 0.5237 - val_accuracy: 0.8207\n",
            "Epoch 92/100\n",
            "20/20 [==============================] - 11s 561ms/step - loss: 0.4872 - accuracy: 0.8246 - val_loss: 0.5200 - val_accuracy: 0.8224\n",
            "Epoch 93/100\n",
            "20/20 [==============================] - 11s 560ms/step - loss: 0.4926 - accuracy: 0.8241 - val_loss: 0.5380 - val_accuracy: 0.8159\n",
            "Epoch 94/100\n",
            "20/20 [==============================] - 11s 560ms/step - loss: 0.4858 - accuracy: 0.8273 - val_loss: 0.5247 - val_accuracy: 0.8210\n",
            "Epoch 95/100\n",
            "20/20 [==============================] - 11s 560ms/step - loss: 0.4974 - accuracy: 0.8259 - val_loss: 0.5294 - val_accuracy: 0.8211\n",
            "Epoch 96/100\n",
            "20/20 [==============================] - 11s 560ms/step - loss: 0.4944 - accuracy: 0.8239 - val_loss: 0.5281 - val_accuracy: 0.8172\n",
            "Epoch 97/100\n",
            "20/20 [==============================] - 11s 563ms/step - loss: 0.4892 - accuracy: 0.8245 - val_loss: 0.5342 - val_accuracy: 0.8169\n",
            "Epoch 98/100\n",
            "20/20 [==============================] - 11s 563ms/step - loss: 0.4927 - accuracy: 0.8237 - val_loss: 0.5273 - val_accuracy: 0.8221\n",
            "Epoch 99/100\n",
            "20/20 [==============================] - 11s 562ms/step - loss: 0.4906 - accuracy: 0.8248 - val_loss: 0.5324 - val_accuracy: 0.8159\n",
            "Epoch 100/100\n",
            "20/20 [==============================] - 11s 562ms/step - loss: 0.4945 - accuracy: 0.8213 - val_loss: 0.5225 - val_accuracy: 0.8204\n"
          ],
          "name": "stdout"
        }
      ]
    },
    {
      "cell_type": "code",
      "metadata": {
        "colab": {
          "base_uri": "https://localhost:8080/"
        },
        "id": "wMZf0_NSMysx",
        "outputId": "c8ff83f2-4bd2-40ac-93d2-f1d5e6fa85a7"
      },
      "source": [
        "model.evaluate(Xvalidation, Yvalidation, verbose=0)"
      ],
      "execution_count": 36,
      "outputs": [
        {
          "output_type": "execute_result",
          "data": {
            "text/plain": [
              "[0.5225160121917725, 0.8203820586204529]"
            ]
          },
          "metadata": {
            "tags": []
          },
          "execution_count": 36
        }
      ]
    },
    {
      "cell_type": "code",
      "metadata": {
        "colab": {
          "base_uri": "https://localhost:8080/",
          "height": 562
        },
        "id": "fHwK0QXOR1co",
        "outputId": "56340c40-6e69-4c97-f94e-cf068d9662bc"
      },
      "source": [
        "acc = history.history['accuracy']\n",
        "val_acc = history.history['val_accuracy']\n",
        "loss = history.history['loss']\n",
        "val_loss = history.history['val_loss']\n",
        "\n",
        "epochs = range(len(acc))\n",
        "\n",
        "plt.plot(epochs, acc, 'r', label='Training accuracy')\n",
        "plt.plot(epochs, val_acc, 'b', label='Validation accuracy')\n",
        "plt.title('Training and Validation accuracy')\n",
        "plt.legend(loc=0)\n",
        "plt.figure()\n",
        "\n",
        "plt.plot(epochs, loss, 'c', label='Training loss')\n",
        "plt.plot(epochs, val_loss, 'm', label='Validation loss')\n",
        "plt.title('Training and Validation loss')\n",
        "plt.legend(loc=0)\n",
        "plt.figure()\n",
        "\n",
        "\n",
        "plt.show()"
      ],
      "execution_count": 37,
      "outputs": [
        {
          "output_type": "display_data",
          "data": {
            "image/png": "[encoded data removed]",
            "text/plain": [
              "<Figure size 432x288 with 1 Axes>"
            ]
          },
          "metadata": {
            "tags": [],
            "needs_background": "light"
          }
        },
        {
          "output_type": "display_data",
          "data": {
            "image/png": "[encoded data removed]",
            "text/plain": [
              "<Figure size 432x288 with 1 Axes>"
            ]
          },
          "metadata": {
            "tags": [],
            "needs_background": "light"
          }
        },
        {
          "output_type": "display_data",
          "data": {
            "text/plain": [
              "<Figure size 432x288 with 0 Axes>"
            ]
          },
          "metadata": {
            "tags": []
          }
        }
      ]
    },
    {
      "cell_type": "code",
      "metadata": {
        "id": "lAbEzOPCX6md",
        "colab": {
          "base_uri": "https://localhost:8080/"
        },
        "outputId": "a89997fa-1235-4ce2-b436-3e3d85a7c7b8"
      },
      "source": [
        "import pandas as pd\n",
        "\n",
        "# Predict classes of X_test images (one-hot encoded format)\n",
        "test_pred = model.predict(X_test)\n",
        "test_pred_labels = [np.argmax(r) for r in test_pred]\n",
        "\n",
        "# Generate data with specified format and convert test_pred to int\n",
        "data = {'id':       list(range(0, len(X_test), 1)),\n",
        "        'classes':  test_pred_labels}\n",
        "\n",
        "# Generate the dataframe\n",
        "df = pd.DataFrame(data, columns = ['id', 'classes'])\n",
        "\n",
        "# Export df to csv\n",
        "df.to_csv(\"./prediction_submission.csv\", index = False)\n",
        "\n",
        "print(\"finished\")"
      ],
      "execution_count": 38,
      "outputs": [
        {
          "output_type": "stream",
          "text": [
            "finished\n"
          ],
          "name": "stdout"
        }
      ]
    },
    {
      "cell_type": "code",
      "metadata": {
        "id": "X8w_U9lw-kxR"
      },
      "source": [
        ""
      ],
      "execution_count": 30,
      "outputs": []
    }
  ]
}